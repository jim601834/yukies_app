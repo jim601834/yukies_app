{
 "cells": [
  {
   "cell_type": "markdown",
   "metadata": {},
   "source": []
  },
  {
   "cell_type": "markdown",
   "metadata": {},
   "source": [
    "State description\n",
    "\n",
    "Initial State\n",
    "\n",
    "\n",
    "app_control_widget : \"Maint\" button grray disabled, if admin permission green enabled\n",
    "\n",
    "data_entry_widdget : Refund, Withdraw, Deposit, Transfer, Pay buttons green, enabled. Date combo box todays date, enabled. Combo 1 gray disabled, combo2, gray disabled, amount 10,000.00 gray disabled, Purpose gray disabled tax unchecked, disabled, submit red disabled. After buttton press : pressed button yellow, disabled, all other function buttons gray disabled, submit button yellow, disabled, date box today, enabled, combo 1 :placeholder (Select\"To\" account gray) combo 1 Gray placeholder Select \"From\"Account, amount gray placeholder enabled, tax, unchecked, enabled, purpose gray placeholder enabled. When accounts have been selected and date,amount all selected, submit button green enabled.\n",
    "\n",
    "Area 1 display budget small showing top level budget categories, (if click expand button swith to page 2,  expanded budget showing top and sub categories,)) \n",
    "\n",
    "Area2 display current month qlog entries descending date order, running totals\n",
    "\n",
    "Area 3 display payment methods data frame.\n",
    "\n",
    "Area 4 display analyze controls.\n",
    "\n",
    "If budget line clicked area 2 to show qlog entries for clicked category only. if payment method line clicked area 2 to show only entries for clicked paymernt method.\n",
    "\n"
   ]
  }
 ],
 "metadata": {
  "language_info": {
   "name": "python"
  }
 },
 "nbformat": 4,
 "nbformat_minor": 2
}
